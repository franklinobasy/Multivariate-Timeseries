{
 "cells": [
  {
   "cell_type": "code",
   "execution_count": null,
   "metadata": {},
   "outputs": [],
   "source": [
    "import pandas as pd\n",
    "import numpy as np"
   ]
  },
  {
   "cell_type": "code",
   "execution_count": null,
   "metadata": {},
   "outputs": [],
   "source": [
    "co2_df = pd.read_csv(\"./processed_data/co2_emissions.csv\")\n",
    "temp_df = pd.read_csv(\"./processed_data/Temperature_of_countries.csv\")"
   ]
  },
  {
   "cell_type": "code",
   "execution_count": null,
   "metadata": {},
   "outputs": [],
   "source": [
    "temp_df"
   ]
  },
  {
   "cell_type": "code",
   "execution_count": null,
   "metadata": {},
   "outputs": [],
   "source": [
    "t = temp_df.groupby('Year')['Temperature'].mean()"
   ]
  },
  {
   "cell_type": "code",
   "execution_count": null,
   "metadata": {},
   "outputs": [],
   "source": [
    "dataset = pd.DataFrame({\n",
    "    'Temperature': t\n",
    "})"
   ]
  },
  {
   "cell_type": "code",
   "execution_count": null,
   "metadata": {},
   "outputs": [],
   "source": [
    "dataset"
   ]
  },
  {
   "cell_type": "code",
   "execution_count": null,
   "metadata": {},
   "outputs": [],
   "source": [
    "population_df = pd.read_csv(\"./processed_data/population.csv\")"
   ]
  },
  {
   "cell_type": "code",
   "execution_count": null,
   "metadata": {},
   "outputs": [],
   "source": [
    "methane_df = pd.read_csv(\"./processed_data/methane_emissions.csv\")"
   ]
  },
  {
   "cell_type": "code",
   "execution_count": null,
   "metadata": {},
   "outputs": [],
   "source": [
    "ni_df = pd.read_csv(\"./processed_data/nitrous_oxide_emission.csv\")"
   ]
  },
  {
   "cell_type": "code",
   "execution_count": null,
   "metadata": {},
   "outputs": [],
   "source": [
    "population_df.columns"
   ]
  },
  {
   "cell_type": "code",
   "execution_count": null,
   "metadata": {},
   "outputs": [],
   "source": [
    "merged_df = pd.merge(co2_df, methane_df, on=['Country', 'ISO', 'Year'], suffixes=('_CO2', '_Methane'), how='inner')\n",
    "merged_df = pd.merge(merged_df, ni_df, on=['Country', 'ISO', 'Year'], how='inner')\n",
    "merged_df = pd.merge(merged_df, population_df, on=['Country', 'ISO', 'Year'], how='inner')\n",
    "\n",
    "merged_df"
   ]
  },
  {
   "cell_type": "code",
   "execution_count": null,
   "metadata": {},
   "outputs": [],
   "source": [
    "annual_co2 = merged_df['Annual CO2 emissions (per capita)'] * merged_df[\"Population - Sex: all - Age: all - Variant: estimates\"]\n",
    "merged_df.insert(4, \"Annual CO2 Emissions\", annual_co2)\n",
    "\n",
    "merged_df"
   ]
  },
  {
   "cell_type": "code",
   "execution_count": null,
   "metadata": {},
   "outputs": [],
   "source": [
    "annual_mh4 = merged_df[\"Per-capita methane emissions in CO2 equivalents\"] * merged_df['Population - Sex: all - Age: all - Variant: estimates']\n",
    "merged_df.insert(6, \"Annual MH4 Emission\", annual_mh4)\n",
    "\n",
    "merged_df"
   ]
  },
  {
   "cell_type": "code",
   "execution_count": null,
   "metadata": {},
   "outputs": [],
   "source": [
    "annual_ni = merged_df['Per-capita nitrous oxide emissions in CO2 equivalents'] * merged_df['Population - Sex: all - Age: all - Variant: estimates']\n",
    "merged_df.insert(8, \"Annual NiO Emissions\", annual_ni)\n",
    "\n",
    "merged_df"
   ]
  },
  {
   "cell_type": "code",
   "execution_count": null,
   "metadata": {},
   "outputs": [],
   "source": [
    "new_features = merged_df.groupby('Year')[['Annual CO2 Emissions', 'Annual MH4 Emission', 'Annual NiO Emissions']].sum()"
   ]
  },
  {
   "cell_type": "code",
   "execution_count": null,
   "metadata": {},
   "outputs": [],
   "source": [
    "new_features"
   ]
  },
  {
   "cell_type": "code",
   "execution_count": null,
   "metadata": {},
   "outputs": [],
   "source": [
    "dataset[['Annual CO2 Emissions', 'Annual MH4 Emissions', 'Annual NiO Emissions']] = new_features[['Annual CO2 Emissions', 'Annual MH4 Emission', 'Annual NiO Emissions']]\n",
    "\n",
    "dataset"
   ]
  },
  {
   "cell_type": "code",
   "execution_count": null,
   "metadata": {},
   "outputs": [],
   "source": [
    "dataset.info()"
   ]
  },
  {
   "cell_type": "code",
   "execution_count": null,
   "metadata": {},
   "outputs": [],
   "source": [
    "# dataset.to_csv(\"dataset/timeseries.csv\")"
   ]
  }
 ],
 "metadata": {
  "kernelspec": {
   "display_name": "base",
   "language": "python",
   "name": "python3"
  },
  "language_info": {
   "codemirror_mode": {
    "name": "ipython",
    "version": 3
   },
   "file_extension": ".py",
   "mimetype": "text/x-python",
   "name": "python",
   "nbconvert_exporter": "python",
   "pygments_lexer": "ipython3",
   "version": "3.9.7"
  },
  "orig_nbformat": 4
 },
 "nbformat": 4,
 "nbformat_minor": 2
}
